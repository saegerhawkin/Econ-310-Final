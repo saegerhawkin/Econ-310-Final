{
 "cells": [
  {
   "cell_type": "markdown",
   "metadata": {},
   "source": [
    "# Econ 310 - Econometrics Final #\n",
    "This is the notebook for my final project in my econometrics course. Throughout it I am going to set up the data to be analyzed by cleaning it, creating various variables of interest, and combining different sources of data. Then I am going to run some regressions and analyze the results. Afterwards I am going to interpret the coefficients and run various tests to determine if the model is sound."
   ]
  },
  {
   "cell_type": "code",
   "execution_count": 1,
   "metadata": {},
   "outputs": [],
   "source": [
    "import numpy as np\n",
    "import pandas as pd\n",
    "\n",
    "import statsmodels.api as sm\n",
    "from sklearn.linear_model import LinearRegression\n",
    "\n",
    "import matplotlib.pyplot as plt\n",
    "%matplotlib inline"
   ]
  },
  {
   "cell_type": "markdown",
   "metadata": {},
   "source": [
    "## Read in Data ##\n",
    "First I am reading in all my datasets and taking a peek at them with the head function. I also opened up the files to gloss over and look for any irregularities. There are three csv files, one for 2016 election results, one for county populations, and one for COVID-19 cases by county.\n",
    "\n",
    "### Vote CSV ###"
   ]
  },
  {
   "cell_type": "code",
   "execution_count": 2,
   "metadata": {},
   "outputs": [
    {
     "data": {
      "text/html": [
       "<div>\n",
       "<style scoped>\n",
       "    .dataframe tbody tr th:only-of-type {\n",
       "        vertical-align: middle;\n",
       "    }\n",
       "\n",
       "    .dataframe tbody tr th {\n",
       "        vertical-align: top;\n",
       "    }\n",
       "\n",
       "    .dataframe thead th {\n",
       "        text-align: right;\n",
       "    }\n",
       "</style>\n",
       "<table border=\"1\" class=\"dataframe\">\n",
       "  <thead>\n",
       "    <tr style=\"text-align: right;\">\n",
       "      <th></th>\n",
       "      <th>state</th>\n",
       "      <th>state_po</th>\n",
       "      <th>county</th>\n",
       "      <th>FIPS</th>\n",
       "      <th>candidate</th>\n",
       "      <th>party</th>\n",
       "      <th>candidatevotes</th>\n",
       "      <th>totalvotes</th>\n",
       "    </tr>\n",
       "  </thead>\n",
       "  <tbody>\n",
       "    <tr>\n",
       "      <th>0</th>\n",
       "      <td>Alabama</td>\n",
       "      <td>AL</td>\n",
       "      <td>Autauga</td>\n",
       "      <td>1001.0</td>\n",
       "      <td>Hillary Clinton</td>\n",
       "      <td>democrat</td>\n",
       "      <td>5936.0</td>\n",
       "      <td>24973</td>\n",
       "    </tr>\n",
       "    <tr>\n",
       "      <th>1</th>\n",
       "      <td>Alabama</td>\n",
       "      <td>AL</td>\n",
       "      <td>Autauga</td>\n",
       "      <td>1001.0</td>\n",
       "      <td>Donald Trump</td>\n",
       "      <td>republican</td>\n",
       "      <td>18172.0</td>\n",
       "      <td>24973</td>\n",
       "    </tr>\n",
       "    <tr>\n",
       "      <th>2</th>\n",
       "      <td>Alabama</td>\n",
       "      <td>AL</td>\n",
       "      <td>Autauga</td>\n",
       "      <td>1001.0</td>\n",
       "      <td>Other</td>\n",
       "      <td>NaN</td>\n",
       "      <td>865.0</td>\n",
       "      <td>24973</td>\n",
       "    </tr>\n",
       "    <tr>\n",
       "      <th>3</th>\n",
       "      <td>Alabama</td>\n",
       "      <td>AL</td>\n",
       "      <td>Baldwin</td>\n",
       "      <td>1003.0</td>\n",
       "      <td>Hillary Clinton</td>\n",
       "      <td>democrat</td>\n",
       "      <td>18458.0</td>\n",
       "      <td>95215</td>\n",
       "    </tr>\n",
       "    <tr>\n",
       "      <th>4</th>\n",
       "      <td>Alabama</td>\n",
       "      <td>AL</td>\n",
       "      <td>Baldwin</td>\n",
       "      <td>1003.0</td>\n",
       "      <td>Donald Trump</td>\n",
       "      <td>republican</td>\n",
       "      <td>72883.0</td>\n",
       "      <td>95215</td>\n",
       "    </tr>\n",
       "  </tbody>\n",
       "</table>\n",
       "</div>"
      ],
      "text/plain": [
       "     state state_po   county    FIPS        candidate       party  \\\n",
       "0  Alabama       AL  Autauga  1001.0  Hillary Clinton    democrat   \n",
       "1  Alabama       AL  Autauga  1001.0     Donald Trump  republican   \n",
       "2  Alabama       AL  Autauga  1001.0            Other         NaN   \n",
       "3  Alabama       AL  Baldwin  1003.0  Hillary Clinton    democrat   \n",
       "4  Alabama       AL  Baldwin  1003.0     Donald Trump  republican   \n",
       "\n",
       "   candidatevotes  totalvotes  \n",
       "0          5936.0       24973  \n",
       "1         18172.0       24973  \n",
       "2           865.0       24973  \n",
       "3         18458.0       95215  \n",
       "4         72883.0       95215  "
      ]
     },
     "execution_count": 2,
     "metadata": {},
     "output_type": "execute_result"
    }
   ],
   "source": [
    "# selecting only needed columns to avoid confusion\n",
    "vote_df = pd.read_csv('countypres2016.csv', usecols=['state','state_po', 'county', 'FIPS','candidate','party','candidatevotes','totalvotes'])\n",
    "vote_df.head()"
   ]
  },
  {
   "cell_type": "markdown",
   "metadata": {},
   "source": [
    "Removing the votes for the other candidate as I am only looking at democrat and republican votes."
   ]
  },
  {
   "cell_type": "code",
   "execution_count": 3,
   "metadata": {},
   "outputs": [
    {
     "data": {
      "text/html": [
       "<div>\n",
       "<style scoped>\n",
       "    .dataframe tbody tr th:only-of-type {\n",
       "        vertical-align: middle;\n",
       "    }\n",
       "\n",
       "    .dataframe tbody tr th {\n",
       "        vertical-align: top;\n",
       "    }\n",
       "\n",
       "    .dataframe thead th {\n",
       "        text-align: right;\n",
       "    }\n",
       "</style>\n",
       "<table border=\"1\" class=\"dataframe\">\n",
       "  <thead>\n",
       "    <tr style=\"text-align: right;\">\n",
       "      <th></th>\n",
       "      <th>state</th>\n",
       "      <th>state_po</th>\n",
       "      <th>county</th>\n",
       "      <th>FIPS</th>\n",
       "      <th>candidate</th>\n",
       "      <th>party</th>\n",
       "      <th>candidatevotes</th>\n",
       "      <th>totalvotes</th>\n",
       "      <th>percent_total</th>\n",
       "    </tr>\n",
       "  </thead>\n",
       "  <tbody>\n",
       "    <tr>\n",
       "      <th>0</th>\n",
       "      <td>Alabama</td>\n",
       "      <td>AL</td>\n",
       "      <td>Autauga</td>\n",
       "      <td>1001.0</td>\n",
       "      <td>Hillary Clinton</td>\n",
       "      <td>democrat</td>\n",
       "      <td>5936.0</td>\n",
       "      <td>24973</td>\n",
       "      <td>23.77</td>\n",
       "    </tr>\n",
       "    <tr>\n",
       "      <th>1</th>\n",
       "      <td>Alabama</td>\n",
       "      <td>AL</td>\n",
       "      <td>Autauga</td>\n",
       "      <td>1001.0</td>\n",
       "      <td>Donald Trump</td>\n",
       "      <td>republican</td>\n",
       "      <td>18172.0</td>\n",
       "      <td>24973</td>\n",
       "      <td>72.77</td>\n",
       "    </tr>\n",
       "    <tr>\n",
       "      <th>3</th>\n",
       "      <td>Alabama</td>\n",
       "      <td>AL</td>\n",
       "      <td>Baldwin</td>\n",
       "      <td>1003.0</td>\n",
       "      <td>Hillary Clinton</td>\n",
       "      <td>democrat</td>\n",
       "      <td>18458.0</td>\n",
       "      <td>95215</td>\n",
       "      <td>19.39</td>\n",
       "    </tr>\n",
       "    <tr>\n",
       "      <th>4</th>\n",
       "      <td>Alabama</td>\n",
       "      <td>AL</td>\n",
       "      <td>Baldwin</td>\n",
       "      <td>1003.0</td>\n",
       "      <td>Donald Trump</td>\n",
       "      <td>republican</td>\n",
       "      <td>72883.0</td>\n",
       "      <td>95215</td>\n",
       "      <td>76.55</td>\n",
       "    </tr>\n",
       "    <tr>\n",
       "      <th>6</th>\n",
       "      <td>Alabama</td>\n",
       "      <td>AL</td>\n",
       "      <td>Barbour</td>\n",
       "      <td>1005.0</td>\n",
       "      <td>Hillary Clinton</td>\n",
       "      <td>democrat</td>\n",
       "      <td>4871.0</td>\n",
       "      <td>10469</td>\n",
       "      <td>46.53</td>\n",
       "    </tr>\n",
       "  </tbody>\n",
       "</table>\n",
       "</div>"
      ],
      "text/plain": [
       "     state state_po   county    FIPS        candidate       party  \\\n",
       "0  Alabama       AL  Autauga  1001.0  Hillary Clinton    democrat   \n",
       "1  Alabama       AL  Autauga  1001.0     Donald Trump  republican   \n",
       "3  Alabama       AL  Baldwin  1003.0  Hillary Clinton    democrat   \n",
       "4  Alabama       AL  Baldwin  1003.0     Donald Trump  republican   \n",
       "6  Alabama       AL  Barbour  1005.0  Hillary Clinton    democrat   \n",
       "\n",
       "   candidatevotes  totalvotes  percent_total  \n",
       "0          5936.0       24973          23.77  \n",
       "1         18172.0       24973          72.77  \n",
       "3         18458.0       95215          19.39  \n",
       "4         72883.0       95215          76.55  \n",
       "6          4871.0       10469          46.53  "
      ]
     },
     "execution_count": 3,
     "metadata": {},
     "output_type": "execute_result"
    }
   ],
   "source": [
    "vote_df = vote_df[vote_df['candidate']!='Other']\n",
    "#create percent column\n",
    "vote_df['percent_total'] = round((vote_df['candidatevotes'] / vote_df['totalvotes'])*100,2)\n",
    "vote_df.head()"
   ]
  },
  {
   "cell_type": "markdown",
   "metadata": {},
   "source": [
    "Restructuring data with a pivot table then converting back to dataframe. The dataset is now ready to merge with the others."
   ]
  },
  {
   "cell_type": "code",
   "execution_count": 4,
   "metadata": {},
   "outputs": [
    {
     "data": {
      "text/html": [
       "<div>\n",
       "<style scoped>\n",
       "    .dataframe tbody tr th:only-of-type {\n",
       "        vertical-align: middle;\n",
       "    }\n",
       "\n",
       "    .dataframe tbody tr th {\n",
       "        vertical-align: top;\n",
       "    }\n",
       "\n",
       "    .dataframe thead th {\n",
       "        text-align: right;\n",
       "    }\n",
       "</style>\n",
       "<table border=\"1\" class=\"dataframe\">\n",
       "  <thead>\n",
       "    <tr style=\"text-align: right;\">\n",
       "      <th></th>\n",
       "      <th>FIPS</th>\n",
       "      <th>d_vote_percent</th>\n",
       "      <th>r_vote_percent</th>\n",
       "    </tr>\n",
       "  </thead>\n",
       "  <tbody>\n",
       "    <tr>\n",
       "      <th>0</th>\n",
       "      <td>1001.0</td>\n",
       "      <td>23.77</td>\n",
       "      <td>72.77</td>\n",
       "    </tr>\n",
       "    <tr>\n",
       "      <th>1</th>\n",
       "      <td>1003.0</td>\n",
       "      <td>19.39</td>\n",
       "      <td>76.55</td>\n",
       "    </tr>\n",
       "    <tr>\n",
       "      <th>2</th>\n",
       "      <td>1005.0</td>\n",
       "      <td>46.53</td>\n",
       "      <td>52.10</td>\n",
       "    </tr>\n",
       "    <tr>\n",
       "      <th>3</th>\n",
       "      <td>1007.0</td>\n",
       "      <td>21.25</td>\n",
       "      <td>76.40</td>\n",
       "    </tr>\n",
       "    <tr>\n",
       "      <th>4</th>\n",
       "      <td>1009.0</td>\n",
       "      <td>8.43</td>\n",
       "      <td>89.33</td>\n",
       "    </tr>\n",
       "  </tbody>\n",
       "</table>\n",
       "</div>"
      ],
      "text/plain": [
       "     FIPS  d_vote_percent  r_vote_percent\n",
       "0  1001.0           23.77           72.77\n",
       "1  1003.0           19.39           76.55\n",
       "2  1005.0           46.53           52.10\n",
       "3  1007.0           21.25           76.40\n",
       "4  1009.0            8.43           89.33"
      ]
     },
     "execution_count": 4,
     "metadata": {},
     "output_type": "execute_result"
    }
   ],
   "source": [
    "pivot = pd.pivot_table(vote_df, 'percent_total', index='FIPS', columns='party')\n",
    "\n",
    "pivot.columns.name = None       #remove categories\n",
    "pivot = pivot.reset_index()     #index to columns\n",
    "vote_df = pivot.rename(columns={'democrat':'d_vote_percent', 'republican':'r_vote_percent'})\n",
    "vote_df.head()"
   ]
  },
  {
   "cell_type": "markdown",
   "metadata": {},
   "source": [
    "### Population CSV ###"
   ]
  },
  {
   "cell_type": "code",
   "execution_count": 5,
   "metadata": {},
   "outputs": [
    {
     "data": {
      "text/html": [
       "<div>\n",
       "<style scoped>\n",
       "    .dataframe tbody tr th:only-of-type {\n",
       "        vertical-align: middle;\n",
       "    }\n",
       "\n",
       "    .dataframe tbody tr th {\n",
       "        vertical-align: top;\n",
       "    }\n",
       "\n",
       "    .dataframe thead th {\n",
       "        text-align: right;\n",
       "    }\n",
       "</style>\n",
       "<table border=\"1\" class=\"dataframe\">\n",
       "  <thead>\n",
       "    <tr style=\"text-align: right;\">\n",
       "      <th></th>\n",
       "      <th>countyFIPS</th>\n",
       "      <th>County Name</th>\n",
       "      <th>State</th>\n",
       "      <th>population</th>\n",
       "    </tr>\n",
       "  </thead>\n",
       "  <tbody>\n",
       "    <tr>\n",
       "      <th>0</th>\n",
       "      <td>0</td>\n",
       "      <td>Statewide Unallocated</td>\n",
       "      <td>AL</td>\n",
       "      <td>0</td>\n",
       "    </tr>\n",
       "    <tr>\n",
       "      <th>1</th>\n",
       "      <td>1001</td>\n",
       "      <td>Autauga County</td>\n",
       "      <td>AL</td>\n",
       "      <td>55869</td>\n",
       "    </tr>\n",
       "    <tr>\n",
       "      <th>2</th>\n",
       "      <td>1003</td>\n",
       "      <td>Baldwin County</td>\n",
       "      <td>AL</td>\n",
       "      <td>223234</td>\n",
       "    </tr>\n",
       "    <tr>\n",
       "      <th>3</th>\n",
       "      <td>1005</td>\n",
       "      <td>Barbour County</td>\n",
       "      <td>AL</td>\n",
       "      <td>24686</td>\n",
       "    </tr>\n",
       "    <tr>\n",
       "      <th>4</th>\n",
       "      <td>1007</td>\n",
       "      <td>Bibb County</td>\n",
       "      <td>AL</td>\n",
       "      <td>22394</td>\n",
       "    </tr>\n",
       "  </tbody>\n",
       "</table>\n",
       "</div>"
      ],
      "text/plain": [
       "   countyFIPS            County Name State  population\n",
       "0           0  Statewide Unallocated    AL           0\n",
       "1        1001         Autauga County    AL       55869\n",
       "2        1003         Baldwin County    AL      223234\n",
       "3        1005         Barbour County    AL       24686\n",
       "4        1007            Bibb County    AL       22394"
      ]
     },
     "execution_count": 5,
     "metadata": {},
     "output_type": "execute_result"
    }
   ],
   "source": [
    "pop_df = pd.read_csv('covid_county_population_usafacts.csv')\n",
    "pop_df.head()"
   ]
  },
  {
   "cell_type": "code",
   "execution_count": 6,
   "metadata": {},
   "outputs": [
    {
     "data": {
      "text/html": [
       "<div>\n",
       "<style scoped>\n",
       "    .dataframe tbody tr th:only-of-type {\n",
       "        vertical-align: middle;\n",
       "    }\n",
       "\n",
       "    .dataframe tbody tr th {\n",
       "        vertical-align: top;\n",
       "    }\n",
       "\n",
       "    .dataframe thead th {\n",
       "        text-align: right;\n",
       "    }\n",
       "</style>\n",
       "<table border=\"1\" class=\"dataframe\">\n",
       "  <thead>\n",
       "    <tr style=\"text-align: right;\">\n",
       "      <th></th>\n",
       "      <th>countyFIPS</th>\n",
       "      <th>County Name</th>\n",
       "      <th>State</th>\n",
       "      <th>population</th>\n",
       "    </tr>\n",
       "  </thead>\n",
       "  <tbody>\n",
       "    <tr>\n",
       "      <th>1</th>\n",
       "      <td>1001</td>\n",
       "      <td>Autauga County</td>\n",
       "      <td>AL</td>\n",
       "      <td>55869</td>\n",
       "    </tr>\n",
       "    <tr>\n",
       "      <th>2</th>\n",
       "      <td>1003</td>\n",
       "      <td>Baldwin County</td>\n",
       "      <td>AL</td>\n",
       "      <td>223234</td>\n",
       "    </tr>\n",
       "    <tr>\n",
       "      <th>3</th>\n",
       "      <td>1005</td>\n",
       "      <td>Barbour County</td>\n",
       "      <td>AL</td>\n",
       "      <td>24686</td>\n",
       "    </tr>\n",
       "    <tr>\n",
       "      <th>4</th>\n",
       "      <td>1007</td>\n",
       "      <td>Bibb County</td>\n",
       "      <td>AL</td>\n",
       "      <td>22394</td>\n",
       "    </tr>\n",
       "    <tr>\n",
       "      <th>5</th>\n",
       "      <td>1009</td>\n",
       "      <td>Blount County</td>\n",
       "      <td>AL</td>\n",
       "      <td>57826</td>\n",
       "    </tr>\n",
       "  </tbody>\n",
       "</table>\n",
       "</div>"
      ],
      "text/plain": [
       "   countyFIPS     County Name State  population\n",
       "1        1001  Autauga County    AL       55869\n",
       "2        1003  Baldwin County    AL      223234\n",
       "3        1005  Barbour County    AL       24686\n",
       "4        1007     Bibb County    AL       22394\n",
       "5        1009   Blount County    AL       57826"
      ]
     },
     "execution_count": 6,
     "metadata": {},
     "output_type": "execute_result"
    }
   ],
   "source": [
    "# removing 'Statewide Unallocated' from each state\n",
    "pop_df = pop_df[pop_df['countyFIPS']!=0]\n",
    "pop_df.head()"
   ]
  },
  {
   "cell_type": "code",
   "execution_count": 7,
   "metadata": {},
   "outputs": [
    {
     "data": {
      "text/html": [
       "<div>\n",
       "<style scoped>\n",
       "    .dataframe tbody tr th:only-of-type {\n",
       "        vertical-align: middle;\n",
       "    }\n",
       "\n",
       "    .dataframe tbody tr th {\n",
       "        vertical-align: top;\n",
       "    }\n",
       "\n",
       "    .dataframe thead th {\n",
       "        text-align: right;\n",
       "    }\n",
       "</style>\n",
       "<table border=\"1\" class=\"dataframe\">\n",
       "  <thead>\n",
       "    <tr style=\"text-align: right;\">\n",
       "      <th></th>\n",
       "      <th>countyFIPS</th>\n",
       "      <th>County Name</th>\n",
       "      <th>State</th>\n",
       "      <th>2/1/2020</th>\n",
       "      <th>2/2/2020</th>\n",
       "      <th>2/3/2020</th>\n",
       "      <th>2/4/2020</th>\n",
       "      <th>2/5/2020</th>\n",
       "      <th>2/6/2020</th>\n",
       "      <th>2/7/2020</th>\n",
       "      <th>...</th>\n",
       "      <th>10/22/2020</th>\n",
       "      <th>10/23/2020</th>\n",
       "      <th>10/24/2020</th>\n",
       "      <th>10/25/2020</th>\n",
       "      <th>10/26/2020</th>\n",
       "      <th>10/27/2020</th>\n",
       "      <th>10/28/2020</th>\n",
       "      <th>10/29/2020</th>\n",
       "      <th>10/30/2020</th>\n",
       "      <th>10/31/2020</th>\n",
       "    </tr>\n",
       "  </thead>\n",
       "  <tbody>\n",
       "    <tr>\n",
       "      <th>0</th>\n",
       "      <td>0</td>\n",
       "      <td>Statewide Unallocated</td>\n",
       "      <td>AL</td>\n",
       "      <td>0</td>\n",
       "      <td>0</td>\n",
       "      <td>0</td>\n",
       "      <td>0</td>\n",
       "      <td>0</td>\n",
       "      <td>0</td>\n",
       "      <td>0</td>\n",
       "      <td>...</td>\n",
       "      <td>0</td>\n",
       "      <td>0</td>\n",
       "      <td>0</td>\n",
       "      <td>0</td>\n",
       "      <td>0</td>\n",
       "      <td>0</td>\n",
       "      <td>0</td>\n",
       "      <td>0</td>\n",
       "      <td>0</td>\n",
       "      <td>0</td>\n",
       "    </tr>\n",
       "    <tr>\n",
       "      <th>1</th>\n",
       "      <td>1001</td>\n",
       "      <td>Autauga County</td>\n",
       "      <td>AL</td>\n",
       "      <td>0</td>\n",
       "      <td>0</td>\n",
       "      <td>0</td>\n",
       "      <td>0</td>\n",
       "      <td>0</td>\n",
       "      <td>0</td>\n",
       "      <td>0</td>\n",
       "      <td>...</td>\n",
       "      <td>2023</td>\n",
       "      <td>2030</td>\n",
       "      <td>2048</td>\n",
       "      <td>2059</td>\n",
       "      <td>2074</td>\n",
       "      <td>2082</td>\n",
       "      <td>2103</td>\n",
       "      <td>2126</td>\n",
       "      <td>2141</td>\n",
       "      <td>2159</td>\n",
       "    </tr>\n",
       "    <tr>\n",
       "      <th>2</th>\n",
       "      <td>1003</td>\n",
       "      <td>Baldwin County</td>\n",
       "      <td>AL</td>\n",
       "      <td>0</td>\n",
       "      <td>0</td>\n",
       "      <td>0</td>\n",
       "      <td>0</td>\n",
       "      <td>0</td>\n",
       "      <td>0</td>\n",
       "      <td>0</td>\n",
       "      <td>...</td>\n",
       "      <td>6475</td>\n",
       "      <td>6615</td>\n",
       "      <td>6637</td>\n",
       "      <td>6658</td>\n",
       "      <td>6694</td>\n",
       "      <td>6712</td>\n",
       "      <td>6743</td>\n",
       "      <td>6768</td>\n",
       "      <td>6888</td>\n",
       "      <td>6940</td>\n",
       "    </tr>\n",
       "    <tr>\n",
       "      <th>3</th>\n",
       "      <td>1005</td>\n",
       "      <td>Barbour County</td>\n",
       "      <td>AL</td>\n",
       "      <td>0</td>\n",
       "      <td>0</td>\n",
       "      <td>0</td>\n",
       "      <td>0</td>\n",
       "      <td>0</td>\n",
       "      <td>0</td>\n",
       "      <td>0</td>\n",
       "      <td>...</td>\n",
       "      <td>997</td>\n",
       "      <td>1012</td>\n",
       "      <td>1031</td>\n",
       "      <td>1033</td>\n",
       "      <td>1033</td>\n",
       "      <td>1042</td>\n",
       "      <td>1045</td>\n",
       "      <td>1055</td>\n",
       "      <td>1056</td>\n",
       "      <td>1060</td>\n",
       "    </tr>\n",
       "    <tr>\n",
       "      <th>4</th>\n",
       "      <td>1007</td>\n",
       "      <td>Bibb County</td>\n",
       "      <td>AL</td>\n",
       "      <td>0</td>\n",
       "      <td>0</td>\n",
       "      <td>0</td>\n",
       "      <td>0</td>\n",
       "      <td>0</td>\n",
       "      <td>0</td>\n",
       "      <td>0</td>\n",
       "      <td>...</td>\n",
       "      <td>811</td>\n",
       "      <td>825</td>\n",
       "      <td>828</td>\n",
       "      <td>840</td>\n",
       "      <td>843</td>\n",
       "      <td>850</td>\n",
       "      <td>856</td>\n",
       "      <td>861</td>\n",
       "      <td>866</td>\n",
       "      <td>873</td>\n",
       "    </tr>\n",
       "  </tbody>\n",
       "</table>\n",
       "<p>5 rows × 277 columns</p>\n",
       "</div>"
      ],
      "text/plain": [
       "   countyFIPS            County Name State  2/1/2020  2/2/2020  2/3/2020  \\\n",
       "0           0  Statewide Unallocated    AL         0         0         0   \n",
       "1        1001         Autauga County    AL         0         0         0   \n",
       "2        1003         Baldwin County    AL         0         0         0   \n",
       "3        1005         Barbour County    AL         0         0         0   \n",
       "4        1007            Bibb County    AL         0         0         0   \n",
       "\n",
       "   2/4/2020  2/5/2020  2/6/2020  2/7/2020  ...  10/22/2020  10/23/2020  \\\n",
       "0         0         0         0         0  ...           0           0   \n",
       "1         0         0         0         0  ...        2023        2030   \n",
       "2         0         0         0         0  ...        6475        6615   \n",
       "3         0         0         0         0  ...         997        1012   \n",
       "4         0         0         0         0  ...         811         825   \n",
       "\n",
       "   10/24/2020  10/25/2020  10/26/2020  10/27/2020  10/28/2020  10/29/2020  \\\n",
       "0           0           0           0           0           0           0   \n",
       "1        2048        2059        2074        2082        2103        2126   \n",
       "2        6637        6658        6694        6712        6743        6768   \n",
       "3        1031        1033        1033        1042        1045        1055   \n",
       "4         828         840         843         850         856         861   \n",
       "\n",
       "   10/30/2020  10/31/2020  \n",
       "0           0           0  \n",
       "1        2141        2159  \n",
       "2        6888        6940  \n",
       "3        1056        1060  \n",
       "4         866         873  \n",
       "\n",
       "[5 rows x 277 columns]"
      ]
     },
     "execution_count": 7,
     "metadata": {},
     "output_type": "execute_result"
    }
   ],
   "source": [
    "cases_df = pd.read_csv('covid_confirmed_usafacts.csv')\n",
    "# remove one uneeded column\n",
    "cases_df = cases_df.drop('stateFIPS', axis=1)\n",
    "cases_df.head()"
   ]
  },
  {
   "cell_type": "code",
   "execution_count": 8,
   "metadata": {},
   "outputs": [
    {
     "data": {
      "text/html": [
       "<div>\n",
       "<style scoped>\n",
       "    .dataframe tbody tr th:only-of-type {\n",
       "        vertical-align: middle;\n",
       "    }\n",
       "\n",
       "    .dataframe tbody tr th {\n",
       "        vertical-align: top;\n",
       "    }\n",
       "\n",
       "    .dataframe thead th {\n",
       "        text-align: right;\n",
       "    }\n",
       "</style>\n",
       "<table border=\"1\" class=\"dataframe\">\n",
       "  <thead>\n",
       "    <tr style=\"text-align: right;\">\n",
       "      <th></th>\n",
       "      <th>countyFIPS</th>\n",
       "      <th>total_cases</th>\n",
       "    </tr>\n",
       "  </thead>\n",
       "  <tbody>\n",
       "    <tr>\n",
       "      <th>1</th>\n",
       "      <td>1001</td>\n",
       "      <td>187911</td>\n",
       "    </tr>\n",
       "    <tr>\n",
       "      <th>2</th>\n",
       "      <td>1003</td>\n",
       "      <td>545470</td>\n",
       "    </tr>\n",
       "    <tr>\n",
       "      <th>3</th>\n",
       "      <td>1005</td>\n",
       "      <td>100237</td>\n",
       "    </tr>\n",
       "    <tr>\n",
       "      <th>4</th>\n",
       "      <td>1007</td>\n",
       "      <td>70606</td>\n",
       "    </tr>\n",
       "    <tr>\n",
       "      <th>5</th>\n",
       "      <td>1009</td>\n",
       "      <td>151652</td>\n",
       "    </tr>\n",
       "  </tbody>\n",
       "</table>\n",
       "</div>"
      ],
      "text/plain": [
       "   countyFIPS  total_cases\n",
       "1        1001       187911\n",
       "2        1003       545470\n",
       "3        1005       100237\n",
       "4        1007        70606\n",
       "5        1009       151652"
      ]
     },
     "execution_count": 8,
     "metadata": {},
     "output_type": "execute_result"
    }
   ],
   "source": [
    "# remove statewide unallocated\n",
    "cases_df = cases_df[cases_df['countyFIPS']!=0]\n",
    "\n",
    "# sum up all cases\n",
    "cases_df['total_cases'] = cases_df.iloc[:,3:].sum(axis=1)\n",
    "\n",
    "cases_df = cases_df[['countyFIPS','total_cases']]\n",
    "cases_df.head()"
   ]
  },
  {
   "cell_type": "markdown",
   "metadata": {},
   "source": [
    "### Combining Datasets ###\n",
    "Now combining the three datasets into one"
   ]
  },
  {
   "cell_type": "code",
   "execution_count": 9,
   "metadata": {},
   "outputs": [
    {
     "data": {
      "text/html": [
       "<div>\n",
       "<style scoped>\n",
       "    .dataframe tbody tr th:only-of-type {\n",
       "        vertical-align: middle;\n",
       "    }\n",
       "\n",
       "    .dataframe tbody tr th {\n",
       "        vertical-align: top;\n",
       "    }\n",
       "\n",
       "    .dataframe thead th {\n",
       "        text-align: right;\n",
       "    }\n",
       "</style>\n",
       "<table border=\"1\" class=\"dataframe\">\n",
       "  <thead>\n",
       "    <tr style=\"text-align: right;\">\n",
       "      <th></th>\n",
       "      <th>countyFIPS</th>\n",
       "      <th>County Name</th>\n",
       "      <th>State</th>\n",
       "      <th>population</th>\n",
       "      <th>total_cases</th>\n",
       "      <th>d_vote_percent</th>\n",
       "      <th>r_vote_percent</th>\n",
       "    </tr>\n",
       "  </thead>\n",
       "  <tbody>\n",
       "    <tr>\n",
       "      <th>0</th>\n",
       "      <td>1001</td>\n",
       "      <td>Autauga County</td>\n",
       "      <td>AL</td>\n",
       "      <td>55869</td>\n",
       "      <td>187911</td>\n",
       "      <td>23.77</td>\n",
       "      <td>72.77</td>\n",
       "    </tr>\n",
       "    <tr>\n",
       "      <th>1</th>\n",
       "      <td>1003</td>\n",
       "      <td>Baldwin County</td>\n",
       "      <td>AL</td>\n",
       "      <td>223234</td>\n",
       "      <td>545470</td>\n",
       "      <td>19.39</td>\n",
       "      <td>76.55</td>\n",
       "    </tr>\n",
       "    <tr>\n",
       "      <th>2</th>\n",
       "      <td>1005</td>\n",
       "      <td>Barbour County</td>\n",
       "      <td>AL</td>\n",
       "      <td>24686</td>\n",
       "      <td>100237</td>\n",
       "      <td>46.53</td>\n",
       "      <td>52.10</td>\n",
       "    </tr>\n",
       "    <tr>\n",
       "      <th>3</th>\n",
       "      <td>1007</td>\n",
       "      <td>Bibb County</td>\n",
       "      <td>AL</td>\n",
       "      <td>22394</td>\n",
       "      <td>70606</td>\n",
       "      <td>21.25</td>\n",
       "      <td>76.40</td>\n",
       "    </tr>\n",
       "    <tr>\n",
       "      <th>4</th>\n",
       "      <td>1009</td>\n",
       "      <td>Blount County</td>\n",
       "      <td>AL</td>\n",
       "      <td>57826</td>\n",
       "      <td>151652</td>\n",
       "      <td>8.43</td>\n",
       "      <td>89.33</td>\n",
       "    </tr>\n",
       "  </tbody>\n",
       "</table>\n",
       "</div>"
      ],
      "text/plain": [
       "   countyFIPS     County Name State  population  total_cases  d_vote_percent  \\\n",
       "0        1001  Autauga County    AL       55869       187911           23.77   \n",
       "1        1003  Baldwin County    AL      223234       545470           19.39   \n",
       "2        1005  Barbour County    AL       24686       100237           46.53   \n",
       "3        1007     Bibb County    AL       22394        70606           21.25   \n",
       "4        1009   Blount County    AL       57826       151652            8.43   \n",
       "\n",
       "   r_vote_percent  \n",
       "0           72.77  \n",
       "1           76.55  \n",
       "2           52.10  \n",
       "3           76.40  \n",
       "4           89.33  "
      ]
     },
     "execution_count": 9,
     "metadata": {},
     "output_type": "execute_result"
    }
   ],
   "source": [
    "df = pd.merge(pop_df, cases_df, how='inner', left_on='countyFIPS', right_on='countyFIPS')\n",
    "df = pd.merge(df, vote_df, how='inner', left_on='countyFIPS', right_on='FIPS')\n",
    "df = df.drop('FIPS', axis=1)\n",
    "df.head()"
   ]
  },
  {
   "cell_type": "code",
   "execution_count": 10,
   "metadata": {},
   "outputs": [
    {
     "data": {
      "text/plain": [
       "countyFIPS        0\n",
       "County Name       0\n",
       "State             0\n",
       "population        0\n",
       "total_cases       0\n",
       "d_vote_percent    0\n",
       "r_vote_percent    0\n",
       "dtype: int64"
      ]
     },
     "execution_count": 10,
     "metadata": {},
     "output_type": "execute_result"
    }
   ],
   "source": [
    "# check for issues, make sure there are no nulls\n",
    "df.isna().sum()"
   ]
  },
  {
   "cell_type": "markdown",
   "metadata": {},
   "source": [
    "<br>\n",
    "Gather the difference of the two voting variables because this will show how Democratic or Republican a particular country voted."
   ]
  },
  {
   "cell_type": "code",
   "execution_count": 11,
   "metadata": {},
   "outputs": [
    {
     "data": {
      "image/png": "[encoded data removed]",
      "text/plain": [
       "<Figure size 432x288 with 1 Axes>"
      ]
     },
     "metadata": {
      "needs_background": "light"
     },
     "output_type": "display_data"
    }
   ],
   "source": [
    "df['vote_diff'] = df['r_vote_percent']- df['d_vote_percent'] \n",
    "\n",
    "n_bins = 100\n",
    "heights, bins, _ = plt.hist('vote_diff', data=df, bins=n_bins) # get positions and heights of bars"
   ]
  },
  {
   "cell_type": "code",
   "execution_count": 12,
   "metadata": {},
   "outputs": [
    {
     "data": {
      "image/png": "[encoded data removed]",
      "text/plain": [
       "<Figure size 432x288 with 1 Axes>"
      ]
     },
     "metadata": {
      "needs_background": "light"
     },
     "output_type": "display_data"
    }
   ],
   "source": [
    "bin_width = np.diff(bins)[0]\n",
    "bin_pos = bins[:-1] + bin_width / 2\n",
    "\n",
    "plt.figure()\n",
    "#break up color at cutoff\n",
    "mask = (bin_pos >= 0)\n",
    "\n",
    "# plot data with colors\n",
    "plt.bar(bin_pos[mask], heights[mask], width=bin_width, color='red')\n",
    "plt.bar(bin_pos[~mask], heights[~mask], width=bin_width, color='blue')\n",
    "\n",
    "#labels\n",
    "plt.title('County Voting Breakdown')\n",
    "plt.xlabel(\"Percent Difference Voting\")\n",
    "plt.ylabel(\"# of counties\")\n",
    "plt.axvline(x=0, linestyle='--',linewidth=2, color='black')\n",
    "\n",
    "plt.show()"
   ]
  },
  {
   "cell_type": "markdown",
   "metadata": {},
   "source": [
    "The graph above shows the counties and how severely they vote one direction. A -25 would correlate to a county that votes 25% more Democraft. A 50 means the county voted 50% more republican.As you can see there are a lot more counties that vote republican. This should not be a surpise if you look at this map from 2016. <br>\n",
    "![GitHub Logo](vote_map.png) <br>\n",
    "The presidential elections are a lot closer because a lot of the democratic counties have a much higher population. This is strictly percentage not number of votes."
   ]
  },
  {
   "cell_type": "markdown",
   "metadata": {},
   "source": [
    "### Summary Tables ###\n",
    "Examing the data a bit more closely"
   ]
  },
  {
   "cell_type": "code",
   "execution_count": 13,
   "metadata": {},
   "outputs": [
    {
     "data": {
      "text/html": [
       "<div>\n",
       "<style scoped>\n",
       "    .dataframe tbody tr th:only-of-type {\n",
       "        vertical-align: middle;\n",
       "    }\n",
       "\n",
       "    .dataframe tbody tr th {\n",
       "        vertical-align: top;\n",
       "    }\n",
       "\n",
       "    .dataframe thead th {\n",
       "        text-align: right;\n",
       "    }\n",
       "</style>\n",
       "<table border=\"1\" class=\"dataframe\">\n",
       "  <thead>\n",
       "    <tr style=\"text-align: right;\">\n",
       "      <th></th>\n",
       "      <th>total_cases</th>\n",
       "      <th>population</th>\n",
       "      <th>vote_diff</th>\n",
       "    </tr>\n",
       "  </thead>\n",
       "  <tbody>\n",
       "    <tr>\n",
       "      <th>count</th>\n",
       "      <td>3114.00</td>\n",
       "      <td>3114.00</td>\n",
       "      <td>3114.00</td>\n",
       "    </tr>\n",
       "    <tr>\n",
       "      <th>mean</th>\n",
       "      <td>271635.13</td>\n",
       "      <td>105263.55</td>\n",
       "      <td>31.71</td>\n",
       "    </tr>\n",
       "    <tr>\n",
       "      <th>std</th>\n",
       "      <td>1136971.70</td>\n",
       "      <td>334837.46</td>\n",
       "      <td>30.76</td>\n",
       "    </tr>\n",
       "    <tr>\n",
       "      <th>min</th>\n",
       "      <td>0.00</td>\n",
       "      <td>169.00</td>\n",
       "      <td>-86.77</td>\n",
       "    </tr>\n",
       "    <tr>\n",
       "      <th>25%</th>\n",
       "      <td>13518.50</td>\n",
       "      <td>11128.75</td>\n",
       "      <td>14.67</td>\n",
       "    </tr>\n",
       "    <tr>\n",
       "      <th>50%</th>\n",
       "      <td>44518.50</td>\n",
       "      <td>26163.00</td>\n",
       "      <td>37.86</td>\n",
       "    </tr>\n",
       "    <tr>\n",
       "      <th>75%</th>\n",
       "      <td>139418.00</td>\n",
       "      <td>68904.75</td>\n",
       "      <td>54.61</td>\n",
       "    </tr>\n",
       "    <tr>\n",
       "      <th>max</th>\n",
       "      <td>31779237.00</td>\n",
       "      <td>10039107.00</td>\n",
       "      <td>90.97</td>\n",
       "    </tr>\n",
       "  </tbody>\n",
       "</table>\n",
       "</div>"
      ],
      "text/plain": [
       "       total_cases  population  vote_diff\n",
       "count      3114.00     3114.00    3114.00\n",
       "mean     271635.13   105263.55      31.71\n",
       "std     1136971.70   334837.46      30.76\n",
       "min           0.00      169.00     -86.77\n",
       "25%       13518.50    11128.75      14.67\n",
       "50%       44518.50    26163.00      37.86\n",
       "75%      139418.00    68904.75      54.61\n",
       "max    31779237.00 10039107.00      90.97"
      ]
     },
     "execution_count": 13,
     "metadata": {},
     "output_type": "execute_result"
    }
   ],
   "source": [
    "# setting display to 2 decinmals\n",
    "pd.set_option('display.float_format', lambda x: '%.2f' % x)\n",
    "df[['total_cases','population','vote_diff']].describe()"
   ]
  },
  {
   "cell_type": "code",
   "execution_count": 14,
   "metadata": {},
   "outputs": [
    {
     "data": {
      "text/html": [
       "<div>\n",
       "<style scoped>\n",
       "    .dataframe tbody tr th:only-of-type {\n",
       "        vertical-align: middle;\n",
       "    }\n",
       "\n",
       "    .dataframe tbody tr th {\n",
       "        vertical-align: top;\n",
       "    }\n",
       "\n",
       "    .dataframe thead th {\n",
       "        text-align: right;\n",
       "    }\n",
       "</style>\n",
       "<table border=\"1\" class=\"dataframe\">\n",
       "  <thead>\n",
       "    <tr style=\"text-align: right;\">\n",
       "      <th></th>\n",
       "      <th>countyFIPS</th>\n",
       "      <th>County Name</th>\n",
       "      <th>State</th>\n",
       "      <th>population</th>\n",
       "      <th>total_cases</th>\n",
       "      <th>d_vote_percent</th>\n",
       "      <th>r_vote_percent</th>\n",
       "      <th>vote_diff</th>\n",
       "      <th>cases_per_capita</th>\n",
       "    </tr>\n",
       "  </thead>\n",
       "  <tbody>\n",
       "    <tr>\n",
       "      <th>0</th>\n",
       "      <td>1001</td>\n",
       "      <td>Autauga County</td>\n",
       "      <td>AL</td>\n",
       "      <td>55869</td>\n",
       "      <td>187911</td>\n",
       "      <td>23.77</td>\n",
       "      <td>72.77</td>\n",
       "      <td>49.00</td>\n",
       "      <td>3.36</td>\n",
       "    </tr>\n",
       "    <tr>\n",
       "      <th>1</th>\n",
       "      <td>1003</td>\n",
       "      <td>Baldwin County</td>\n",
       "      <td>AL</td>\n",
       "      <td>223234</td>\n",
       "      <td>545470</td>\n",
       "      <td>19.39</td>\n",
       "      <td>76.55</td>\n",
       "      <td>57.16</td>\n",
       "      <td>2.44</td>\n",
       "    </tr>\n",
       "    <tr>\n",
       "      <th>2</th>\n",
       "      <td>1005</td>\n",
       "      <td>Barbour County</td>\n",
       "      <td>AL</td>\n",
       "      <td>24686</td>\n",
       "      <td>100237</td>\n",
       "      <td>46.53</td>\n",
       "      <td>52.10</td>\n",
       "      <td>5.57</td>\n",
       "      <td>4.06</td>\n",
       "    </tr>\n",
       "    <tr>\n",
       "      <th>3</th>\n",
       "      <td>1007</td>\n",
       "      <td>Bibb County</td>\n",
       "      <td>AL</td>\n",
       "      <td>22394</td>\n",
       "      <td>70606</td>\n",
       "      <td>21.25</td>\n",
       "      <td>76.40</td>\n",
       "      <td>55.15</td>\n",
       "      <td>3.15</td>\n",
       "    </tr>\n",
       "    <tr>\n",
       "      <th>4</th>\n",
       "      <td>1009</td>\n",
       "      <td>Blount County</td>\n",
       "      <td>AL</td>\n",
       "      <td>57826</td>\n",
       "      <td>151652</td>\n",
       "      <td>8.43</td>\n",
       "      <td>89.33</td>\n",
       "      <td>80.90</td>\n",
       "      <td>2.62</td>\n",
       "    </tr>\n",
       "  </tbody>\n",
       "</table>\n",
       "</div>"
      ],
      "text/plain": [
       "   countyFIPS     County Name State  population  total_cases  d_vote_percent  \\\n",
       "0        1001  Autauga County    AL       55869       187911           23.77   \n",
       "1        1003  Baldwin County    AL      223234       545470           19.39   \n",
       "2        1005  Barbour County    AL       24686       100237           46.53   \n",
       "3        1007     Bibb County    AL       22394        70606           21.25   \n",
       "4        1009   Blount County    AL       57826       151652            8.43   \n",
       "\n",
       "   r_vote_percent  vote_diff  cases_per_capita  \n",
       "0           72.77      49.00              3.36  \n",
       "1           76.55      57.16              2.44  \n",
       "2           52.10       5.57              4.06  \n",
       "3           76.40      55.15              3.15  \n",
       "4           89.33      80.90              2.62  "
      ]
     },
     "execution_count": 14,
     "metadata": {},
     "output_type": "execute_result"
    }
   ],
   "source": [
    "# adding column because this makes more sense to me\n",
    "df['cases_per_capita'] = df['total_cases']/df['population']\n",
    "df.head()"
   ]
  },
  {
   "cell_type": "code",
   "execution_count": 15,
   "metadata": {},
   "outputs": [
    {
     "name": "stdout",
     "output_type": "stream",
     "text": [
      "count   3114.00\n",
      "mean       2.05\n",
      "std        1.73\n",
      "min        0.00\n",
      "25%        0.96\n",
      "50%        1.60\n",
      "75%        2.64\n",
      "max       25.34\n",
      "Name: cases_per_capita, dtype: float64\n"
     ]
    }
   ],
   "source": [
    "## checking created columns too\n",
    "pd.set_option('display.float_format', lambda x: '%.2f' % x)\n",
    "print(df['cases_per_capita'].describe())"
   ]
  },
  {
   "cell_type": "markdown",
   "metadata": {},
   "source": [
    "## Linear Models ##\n",
    "Here I am going to implement linear models using statsmodels in Python. First I am going to do a straight up linear regression without changing the data. Then I am going to divide total cases by population and do a regresssion on cases per capita.\n",
    "<br>\n",
    "\n",
    "### Model 1 ###"
   ]
  },
  {
   "cell_type": "code",
   "execution_count": 16,
   "metadata": {},
   "outputs": [
    {
     "name": "stdout",
     "output_type": "stream",
     "text": [
      "                            OLS Regression Results                            \n",
      "==============================================================================\n",
      "Dep. Variable:            total_cases   R-squared:                       0.868\n",
      "Model:                            OLS   Adj. R-squared:                  0.867\n",
      "Method:                 Least Squares   F-statistic:                 1.019e+04\n",
      "Date:                Thu, 03 Dec 2020   Prob (F-statistic):               0.00\n",
      "Time:                        19:02:45   Log-Likelihood:                -44691.\n",
      "No. Observations:                3114   AIC:                         8.939e+04\n",
      "Df Residuals:                    3111   BIC:                         8.941e+04\n",
      "Df Model:                           2                                         \n",
      "Covariance Type:            nonrobust                                         \n",
      "==============================================================================\n",
      "                 coef    std err          t      P>|t|      [0.025      0.975]\n",
      "------------------------------------------------------------------------------\n",
      "const      -8.135e+04   1.19e+04     -6.819      0.000   -1.05e+05    -5.8e+04\n",
      "vote_diff    572.4068    257.701      2.221      0.026      67.126    1077.687\n",
      "population     3.1809      0.024    134.374      0.000       3.135       3.227\n",
      "==============================================================================\n",
      "Omnibus:                     4112.674   Durbin-Watson:                   1.847\n",
      "Prob(Omnibus):                  0.000   Jarque-Bera (JB):          4404280.171\n",
      "Skew:                           6.650   Prob(JB):                         0.00\n",
      "Kurtosis:                     186.759   Cond. No.                     5.65e+05\n",
      "==============================================================================\n",
      "\n",
      "Notes:\n",
      "[1] Standard Errors assume that the covariance matrix of the errors is correctly specified.\n",
      "[2] The condition number is large, 5.65e+05. This might indicate that there are\n",
      "strong multicollinearity or other numerical problems.\n"
     ]
    }
   ],
   "source": [
    "X_1 = df[['vote_diff', 'population']]\n",
    "Y_1 = df['total_cases']\n",
    "\n",
    "X_1 = sm.add_constant(X_1) # adding a constant\n",
    "model_1 = sm.OLS(Y_1, X_1).fit()\n",
    "print(model_1.summary())"
   ]
  },
  {
   "cell_type": "markdown",
   "metadata": {},
   "source": [
    "### Model 2 ###"
   ]
  },
  {
   "cell_type": "code",
   "execution_count": 17,
   "metadata": {},
   "outputs": [
    {
     "name": "stdout",
     "output_type": "stream",
     "text": [
      "                            OLS Regression Results                            \n",
      "==============================================================================\n",
      "Dep. Variable:       cases_per_capita   R-squared:                       0.053\n",
      "Model:                            OLS   Adj. R-squared:                  0.053\n",
      "Method:                 Least Squares   F-statistic:                     175.0\n",
      "Date:                Thu, 03 Dec 2020   Prob (F-statistic):           6.62e-39\n",
      "Time:                        19:02:45   Log-Likelihood:                -6038.2\n",
      "No. Observations:                3114   AIC:                         1.208e+04\n",
      "Df Residuals:                    3112   BIC:                         1.209e+04\n",
      "Df Model:                           1                                         \n",
      "Covariance Type:            nonrobust                                         \n",
      "==============================================================================\n",
      "                 coef    std err          t      P>|t|      [0.025      0.975]\n",
      "------------------------------------------------------------------------------\n",
      "const          2.4651      0.043     56.915      0.000       2.380       2.550\n",
      "vote_diff     -0.0130      0.001    -13.228      0.000      -0.015      -0.011\n",
      "==============================================================================\n",
      "Omnibus:                     2499.898   Durbin-Watson:                   1.400\n",
      "Prob(Omnibus):                  0.000   Jarque-Bera (JB):           104154.207\n",
      "Skew:                           3.488   Prob(JB):                         0.00\n",
      "Kurtosis:                      30.460   Cond. No.                         63.5\n",
      "==============================================================================\n",
      "\n",
      "Notes:\n",
      "[1] Standard Errors assume that the covariance matrix of the errors is correctly specified.\n"
     ]
    }
   ],
   "source": [
    "X_2 = df['vote_diff']\n",
    "Y_2 = df['cases_per_capita']\n",
    "\n",
    "X_2 = sm.add_constant(X_2) # adding a constant\n",
    "model_2 = sm.OLS(Y_2, X_2).fit()\n",
    "print(model_2.summary())"
   ]
  },
  {
   "cell_type": "code",
   "execution_count": 29,
   "metadata": {},
   "outputs": [
    {
     "data": {
      "image/png": "[encoded data removed]",
      "text/plain": [
       "<Figure size 432x288 with 1 Axes>"
      ]
     },
     "metadata": {
      "needs_background": "light"
     },
     "output_type": "display_data"
    }
   ],
   "source": [
    "pred = model_2.predict(X_2)\n",
    "\n",
    "color = np.where(df['vote_diff'] < 0 ,'red','blue')\n",
    "plt.scatter(X_2['vote_diff'], Y_2,  c=color)\n",
    "plt.plot(X_2['vote_diff'],pred, linewidth=4, color='green')\n",
    "\n",
    "plt.title('Regression over Points')\n",
    "plt.xlabel('Partisanship; negative is more Republican')\n",
    "plt.ylabel('Cases per capita')\n",
    "plt.show()"
   ]
  },
  {
   "cell_type": "markdown",
   "metadata": {},
   "source": [
    "## Multicollinearity ##\n",
    "Testing for multicollinearity with the variance inflation factor test."
   ]
  },
  {
   "cell_type": "code",
   "execution_count": 19,
   "metadata": {},
   "outputs": [
    {
     "name": "stdout",
     "output_type": "stream",
     "text": [
      "    variables  VIF\n",
      "0       const 2.59\n",
      "1   vote_diff 1.14\n",
      "2  population 1.14\n",
      "\n",
      "   variables  VIF\n",
      "0      const 2.06\n",
      "1  vote_diff 1.00\n"
     ]
    }
   ],
   "source": [
    "from statsmodels.stats.outliers_influence import variance_inflation_factor\n",
    "\n",
    "#creating function to find VIF\n",
    "def vif(X):\n",
    "    vif=pd.DataFrame()\n",
    "    vif['variables'] = X.columns\n",
    "    vif['VIF'] = [variance_inflation_factor(X.values, i) for i in range(X.shape[1])]\n",
    "    return(vif)\n",
    "\n",
    "#model 1\n",
    "print(vif(X_1))\n",
    "print()\n",
    "#model 2\n",
    "print(vif(X_2))"
   ]
  },
  {
   "cell_type": "markdown",
   "metadata": {},
   "source": [
    "## Serial Correlation Test ##\n",
    "Performing a Durbin Watson test to check for serial correlation. "
   ]
  },
  {
   "cell_type": "code",
   "execution_count": 24,
   "metadata": {},
   "outputs": [
    {
     "name": "stdout",
     "output_type": "stream",
     "text": [
      "Model 1 DW: 1.8472963836647807\n",
      "Model 2 DW: 1.3999465825951618\n"
     ]
    }
   ],
   "source": [
    "from statsmodels.stats.stattools import durbin_watson\n",
    "\n",
    "\n",
    "print(\"Model 1 DW:\",durbin_watson(model_1.resid))\n",
    "\n",
    "print(\"Model 2 DW:\", durbin_watson(model_2.resid))\n"
   ]
  },
  {
   "cell_type": "markdown",
   "metadata": {},
   "source": [
    "## Heteroskedasticity ##\n",
    "Performing a breusch-pagan test"
   ]
  },
  {
   "cell_type": "code",
   "execution_count": 25,
   "metadata": {},
   "outputs": [
    {
     "data": {
      "text/plain": [
       "[('Lagrange multiplier statistic', 498.3603758083305),\n",
       " ('p-value', 6.059257284070845e-109),\n",
       " ('f-value', 296.37093634771037),\n",
       " ('f p-value', 1.532288523310646e-118)]"
      ]
     },
     "execution_count": 25,
     "metadata": {},
     "output_type": "execute_result"
    }
   ],
   "source": [
    "from statsmodels.compat import lzip\n",
    "import statsmodels.stats.api as sms\n",
    "\n",
    "#perform Bresuch-Pagan test\n",
    "names = ['Lagrange multiplier statistic', 'p-value',\n",
    "        'f-value', 'f p-value']\n",
    "test = sms.het_breuschpagan(model_1.resid, model_1.model.exog)\n",
    "\n",
    "lzip(names, test)"
   ]
  },
  {
   "cell_type": "code",
   "execution_count": 26,
   "metadata": {},
   "outputs": [
    {
     "data": {
      "text/plain": [
       "[('Lagrange multiplier statistic', 7.1945665673610435),\n",
       " ('p-value', 0.007312465102452193),\n",
       " ('f-value', 7.206595854601014),\n",
       " ('f p-value', 0.007302115523552889)]"
      ]
     },
     "execution_count": 26,
     "metadata": {},
     "output_type": "execute_result"
    }
   ],
   "source": [
    "test = sms.het_breuschpagan(model_2.resid, model_2.model.exog)\n",
    "\n",
    "lzip(names, test)"
   ]
  },
  {
   "cell_type": "code",
   "execution_count": null,
   "metadata": {},
   "outputs": [],
   "source": []
  }
 ],
 "metadata": {
  "kernelspec": {
   "display_name": "Python 3",
   "language": "python",
   "name": "python3"
  },
  "language_info": {
   "codemirror_mode": {
    "name": "ipython",
    "version": 3
   },
   "file_extension": ".py",
   "mimetype": "text/x-python",
   "name": "python",
   "nbconvert_exporter": "python",
   "pygments_lexer": "ipython3",
   "version": "3.7.9"
  }
 },
 "nbformat": 4,
 "nbformat_minor": 4
}
